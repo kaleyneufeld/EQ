{
 "cells": [
  {
   "cell_type": "code",
   "execution_count": 4,
   "metadata": {},
   "outputs": [],
   "source": [
    "dependencies = {}\n",
    "with open('dependencies.txt') as f:\n",
    "    \n",
    "    for line in f:\n",
    "        \n",
    "        line = line.replace(\"\\n\",\"\")\n",
    "        mapping = line.split(\"->\")\n",
    "        if mapping[1] in dependencies:\n",
    "            dependencies[mapping[1]].append(mapping[0])\n",
    "        else:\n",
    "            dependencies[mapping[1]] = [mapping[0]]"
   ]
  },
  {
   "cell_type": "code",
   "execution_count": 7,
   "metadata": {},
   "outputs": [
    {
     "data": {
      "text/plain": [
       "{'102': ['97', '56', '94'],\n",
       " '31': ['75', '102', '55'],\n",
       " '37': ['75', '102', '16', '55'],\n",
       " '20': ['100', '21', '73'],\n",
       " '36': ['102'],\n",
       " '73': ['39', '41'],\n",
       " '100': ['39'],\n",
       " '112': ['41'],\n",
       " '55': ['62', '56'],\n",
       " '97': ['112', '20'],\n",
       " '94': ['20'],\n",
       " '75': ['56'],\n",
       " '56': ['94']}"
      ]
     },
     "execution_count": 7,
     "metadata": {},
     "output_type": "execute_result"
    }
   ],
   "source": [
    "dependencies"
   ]
  },
  {
   "cell_type": "code",
   "execution_count": 11,
   "metadata": {},
   "outputs": [],
   "source": [
    "def my_iteration(start,x, output):\n",
    "\n",
    "    if x == start:\n",
    "        if x not in output: output.insert(0,x)\n",
    "        return output\n",
    "    elif x not in dependencies:\n",
    "        pass\n",
    "    else:\n",
    "        if len(dependencies[x]) >= 1:\n",
    "            for dep in dependencies[x]:\n",
    "                my_iteration(start,dep,output)\n",
    "                \n",
    "                \n",
    "    if x not in output:\n",
    "        if start not in dependencies or x not in dependencies[start]:\n",
    "            output.append(x)"
   ]
  },
  {
   "cell_type": "code",
   "execution_count": 12,
   "metadata": {},
   "outputs": [],
   "source": [
    "def get_order(start,x):\n",
    "    \n",
    "    output = []\n",
    "    my_iteration(start,x,output)\n",
    "        \n",
    "    return output\n",
    "        "
   ]
  },
  {
   "cell_type": "code",
   "execution_count": 13,
   "metadata": {},
   "outputs": [
    {
     "data": {
      "text/plain": [
       "['73', '112', '100', '21', '20', '97', '94', '56', '102', '36']"
      ]
     },
     "execution_count": 13,
     "metadata": {},
     "output_type": "execute_result"
    }
   ],
   "source": [
    "get_order(\"73\",\"36\")"
   ]
  },
  {
   "cell_type": "code",
   "execution_count": null,
   "metadata": {},
   "outputs": [],
   "source": []
  }
 ],
 "metadata": {
  "kernelspec": {
   "display_name": "Python 3",
   "language": "python",
   "name": "python3"
  },
  "language_info": {
   "codemirror_mode": {
    "name": "ipython",
    "version": 3
   },
   "file_extension": ".py",
   "mimetype": "text/x-python",
   "name": "python",
   "nbconvert_exporter": "python",
   "pygments_lexer": "ipython3",
   "version": "3.7.4"
  }
 },
 "nbformat": 4,
 "nbformat_minor": 2
}
