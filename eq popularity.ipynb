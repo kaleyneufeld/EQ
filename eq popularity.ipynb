{
 "cells": [
  {
   "cell_type": "code",
   "execution_count": 1,
   "metadata": {},
   "outputs": [],
   "source": [
    "import findspark\n",
    "findspark.init()\n",
    "from pyspark.sql import SparkSession\n",
    "from pyspark.sql.functions import sqrt, stddev, col\n",
    "import math"
   ]
  },
  {
   "cell_type": "code",
   "execution_count": 2,
   "metadata": {},
   "outputs": [],
   "source": [
    "spark = SparkSession.builder.appName(\"my App\").getOrCreate()"
   ]
  },
  {
   "cell_type": "code",
   "execution_count": 3,
   "metadata": {},
   "outputs": [],
   "source": [
    "df = spark.read.load(\"DataSample.csv\",\n",
    "                     format=\"csv\", sep=\",\", inferSchema=\"true\", header=\"true\")"
   ]
  },
  {
   "cell_type": "code",
   "execution_count": 4,
   "metadata": {},
   "outputs": [
    {
     "name": "stdout",
     "output_type": "stream",
     "text": [
      "DF size before cleaning: 22025 \n",
      "DF size after cleaning: 19999 \n",
      "+-------+--------------------+-------+--------+----------+--------+----------+\n",
      "|    _ID|              TimeSt|Country|Province|      City|Latitude| Longitude|\n",
      "+-------+--------------------+-------+--------+----------+--------+----------+\n",
      "|4609456|2017-06-21 00:04:...|     CA|      BC|  Richmond|49.18083|-123.12187|\n",
      "|4642575|2017-06-21 00:07:...|     CA|      AB|  Coaldale| 49.7272|-112.57153|\n",
      "|4665055|2017-06-21 00:08:...|     CA|      AB|   Calgary| 51.1467| -114.3133|\n",
      "|5525837|2017-06-21 00:15:...|     CA|      ON|  Brampton| 43.7476|  -79.6912|\n",
      "|4781924|2017-06-21 00:17:...|     CA|      BC|    Surrey| 49.0173|  -123.079|\n",
      "|4828711|2017-06-21 00:21:...|     CA|      ON|Burlington| 43.3354|  -79.8577|\n",
      "|4532616|2017-06-21 01:00:...|     CA|      ON|   Toronto| 43.6459|  -79.3857|\n",
      "|5515112|2017-06-21 01:14:...|     CA|      QC|  Montréal| 45.4934|  -73.5837|\n",
      "|4770360|2017-06-21 01:16:...|     CA|      AB|  Edmonton|53.44217| -113.4452|\n",
      "|5055304|2017-06-21 01:37:...|     CA|      ON|   Toronto| 43.6641|   -79.399|\n",
      "+-------+--------------------+-------+--------+----------+--------+----------+\n",
      "only showing top 10 rows\n",
      "\n"
     ]
    }
   ],
   "source": [
    "print(\"DF size before cleaning: %s \" % df.count())\n",
    "df = df.dropDuplicates([\" TimeSt\",\"Longitude\",\"Latitude\"])\n",
    "print(\"DF size after cleaning: %s \" % df.count())\n",
    "df.show(10)"
   ]
  },
  {
   "cell_type": "code",
   "execution_count": 6,
   "metadata": {},
   "outputs": [],
   "source": [
    "poi = spark.read.load(\"POIList.csv\",\n",
    "                     format=\"csv\", sep=\",\", inferSchema=\"true\", header=\"true\")"
   ]
  },
  {
   "cell_type": "code",
   "execution_count": 7,
   "metadata": {},
   "outputs": [
    {
     "name": "stdout",
     "output_type": "stream",
     "text": [
      "+-----+---------+-----------+\n",
      "|POIID| Latitude|  Longitude|\n",
      "+-----+---------+-----------+\n",
      "| POI1|53.546167|-113.485734|\n",
      "| POI2|53.546167|-113.485734|\n",
      "| POI3|45.521629| -73.566024|\n",
      "| POI4| 45.22483| -63.232729|\n",
      "+-----+---------+-----------+\n",
      "\n"
     ]
    }
   ],
   "source": [
    "poi.show()"
   ]
  },
  {
   "cell_type": "code",
   "execution_count": 8,
   "metadata": {},
   "outputs": [],
   "source": [
    "joined_df = df.crossJoin(poi.withColumnRenamed(\" Latitude\", \"POI_Latitude\")\n",
    "                         .withColumnRenamed(\"Longitude\", \"POI_Longitude\"))"
   ]
  },
  {
   "cell_type": "code",
   "execution_count": 9,
   "metadata": {},
   "outputs": [
    {
     "name": "stdout",
     "output_type": "stream",
     "text": [
      "+-------+--------------------+-------+--------+--------+--------+----------+-----+------------+-------------+\n",
      "|    _ID|              TimeSt|Country|Province|    City|Latitude| Longitude|POIID|POI_Latitude|POI_Longitude|\n",
      "+-------+--------------------+-------+--------+--------+--------+----------+-----+------------+-------------+\n",
      "|4609456|2017-06-21 00:04:...|     CA|      BC|Richmond|49.18083|-123.12187| POI1|   53.546167|  -113.485734|\n",
      "|4609456|2017-06-21 00:04:...|     CA|      BC|Richmond|49.18083|-123.12187| POI2|   53.546167|  -113.485734|\n",
      "|4609456|2017-06-21 00:04:...|     CA|      BC|Richmond|49.18083|-123.12187| POI3|   45.521629|   -73.566024|\n",
      "|4609456|2017-06-21 00:04:...|     CA|      BC|Richmond|49.18083|-123.12187| POI4|    45.22483|   -63.232729|\n",
      "|4642575|2017-06-21 00:07:...|     CA|      AB|Coaldale| 49.7272|-112.57153| POI1|   53.546167|  -113.485734|\n",
      "|4642575|2017-06-21 00:07:...|     CA|      AB|Coaldale| 49.7272|-112.57153| POI2|   53.546167|  -113.485734|\n",
      "|4642575|2017-06-21 00:07:...|     CA|      AB|Coaldale| 49.7272|-112.57153| POI3|   45.521629|   -73.566024|\n",
      "|4642575|2017-06-21 00:07:...|     CA|      AB|Coaldale| 49.7272|-112.57153| POI4|    45.22483|   -63.232729|\n",
      "|4665055|2017-06-21 00:08:...|     CA|      AB| Calgary| 51.1467| -114.3133| POI1|   53.546167|  -113.485734|\n",
      "|4665055|2017-06-21 00:08:...|     CA|      AB| Calgary| 51.1467| -114.3133| POI2|   53.546167|  -113.485734|\n",
      "+-------+--------------------+-------+--------+--------+--------+----------+-----+------------+-------------+\n",
      "only showing top 10 rows\n",
      "\n"
     ]
    }
   ],
   "source": [
    "joined_df.show(10)"
   ]
  },
  {
   "cell_type": "code",
   "execution_count": 10,
   "metadata": {},
   "outputs": [
    {
     "data": {
      "text/plain": [
       "<function __main__.distance_udf(long1, long2, lat1, lat2)>"
      ]
     },
     "execution_count": 10,
     "metadata": {},
     "output_type": "execute_result"
    }
   ],
   "source": [
    "def distance_udf(long1,long2,lat1,lat2):\n",
    "    x = long1 - long2\n",
    "    y = lat1 - lat2\n",
    "\n",
    "    dist = sqrt(x*x+y*y)\n",
    "\n",
    "    return dist.alias(\"distance\")\n",
    "spark.udf.register(\"distance_udf\",distance_udf)"
   ]
  },
  {
   "cell_type": "code",
   "execution_count": 11,
   "metadata": {},
   "outputs": [],
   "source": [
    "distance_df = joined_df.select(\"_ID\",\n",
    "                               \"Province\",\n",
    "                               \"City\",\n",
    "                               \"Latitude\",\n",
    "                               \"Longitude\",\n",
    "                               \"POIID\",\n",
    "                               \"Latitude\",\n",
    "                               \"POI_Longitude\",\n",
    "                               distance_udf(joined_df[\"POI_Longitude\"],\n",
    "                                            joined_df[\"Longitude\"],\n",
    "                                            joined_df[\"POI_Latitude\"],\n",
    "                                            joined_df[\"Latitude\"]))"
   ]
  },
  {
   "cell_type": "code",
   "execution_count": 12,
   "metadata": {},
   "outputs": [
    {
     "name": "stdout",
     "output_type": "stream",
     "text": [
      "+-------+--------+--------+--------+----------+-----+--------+-------------+------------------+\n",
      "|    _ID|Province|    City|Latitude| Longitude|POIID|Latitude|POI_Longitude|          distance|\n",
      "+-------+--------+--------+--------+----------+-----+--------+-------------+------------------+\n",
      "|4609456|      BC|Richmond|49.18083|-123.12187| POI1|49.18083|  -113.485734|10.578812983225722|\n",
      "|4609456|      BC|Richmond|49.18083|-123.12187| POI2|49.18083|  -113.485734|10.578812983225722|\n",
      "|4609456|      BC|Richmond|49.18083|-123.12187| POI3|49.18083|   -73.566024|  49.6907599532762|\n",
      "|4609456|      BC|Richmond|49.18083|-123.12187| POI4|49.18083|   -63.232729| 60.01965632788879|\n",
      "|4642575|      AB|Coaldale| 49.7272|-112.57153| POI1| 49.7272|  -113.485734|3.9268661679136643|\n",
      "|4642575|      AB|Coaldale| 49.7272|-112.57153| POI2| 49.7272|  -113.485734|3.9268661679136643|\n",
      "|4642575|      AB|Coaldale| 49.7272|-112.57153| POI3| 49.7272|   -73.566024| 39.23157307261687|\n",
      "|4642575|      AB|Coaldale| 49.7272|-112.57153| POI4| 49.7272|   -63.232729| 49.54380505910402|\n",
      "|4665055|      AB| Calgary| 51.1467| -114.3133| POI1| 51.1467|  -113.485734| 2.538170082647138|\n",
      "|4665055|      AB| Calgary| 51.1467| -114.3133| POI2| 51.1467|  -113.485734| 2.538170082647138|\n",
      "+-------+--------+--------+--------+----------+-----+--------+-------------+------------------+\n",
      "only showing top 10 rows\n",
      "\n"
     ]
    }
   ],
   "source": [
    "distance_df.show(10)"
   ]
  },
  {
   "cell_type": "code",
   "execution_count": 13,
   "metadata": {},
   "outputs": [],
   "source": [
    "min_df = distance_df.groupBy(\"_ID\").min(\"distance\")"
   ]
  },
  {
   "cell_type": "code",
   "execution_count": 14,
   "metadata": {},
   "outputs": [
    {
     "name": "stdout",
     "output_type": "stream",
     "text": [
      "+-------+--------------------+\n",
      "|    _ID|       min(distance)|\n",
      "+-------+--------------------+\n",
      "|5509958|    6.73193262231708|\n",
      "|5383790|   3.791978035912782|\n",
      "|5427594| 0.13752353640377987|\n",
      "|5245415|0.008228222469047468|\n",
      "|5597350|  16.884670093923795|\n",
      "|4881548| 0.10862129885525182|\n",
      "|4983807| 0.09806816835753421|\n",
      "|5058192|   2.471118548759852|\n",
      "|5372830|  1.3340612187770817|\n",
      "|5504815|  7.6529287078820465|\n",
      "+-------+--------------------+\n",
      "only showing top 10 rows\n",
      "\n"
     ]
    }
   ],
   "source": [
    "min_df.show(10)"
   ]
  },
  {
   "cell_type": "code",
   "execution_count": 15,
   "metadata": {},
   "outputs": [],
   "source": [
    "df1 = min_df.join(distance_df, \"_ID\", \"left\").where(min_df[\"min(distance)\"] == distance_df[\"distance\"]).drop(\"min(distance)\")"
   ]
  },
  {
   "cell_type": "code",
   "execution_count": 16,
   "metadata": {},
   "outputs": [
    {
     "name": "stdout",
     "output_type": "stream",
     "text": [
      "+-------+--------+--------+--------+----------+-----+--------+-------------+-------------------+\n",
      "|    _ID|Province|    City|Latitude| Longitude|POIID|Latitude|POI_Longitude|           distance|\n",
      "+-------+--------+--------+--------+----------+-----+--------+-------------+-------------------+\n",
      "|5193664|      AB|Edmonton|  53.587|  -113.441| POI1|  53.587|  -113.485734|0.06056785157985817|\n",
      "|5193664|      AB|Edmonton|  53.587|  -113.441| POI2|  53.587|  -113.485734|0.06056785157985817|\n",
      "|5398802|      AB|Edmonton|  53.587|  -113.441| POI1|  53.587|  -113.485734|0.06056785157985817|\n",
      "|5398802|      AB|Edmonton|  53.587|  -113.441| POI2|  53.587|  -113.485734|0.06056785157985817|\n",
      "|5344573|      AB|Edmonton|53.57904|-113.55347| POI1|53.57904|  -113.485734|0.07529143261355563|\n",
      "|5344573|      AB|Edmonton|53.57904|-113.55347| POI2|53.57904|  -113.485734|0.07529143261355563|\n",
      "|5041660|      AB|Edmonton|  53.585| -113.5526| POI1|  53.585|  -113.485734|0.07732440652860459|\n",
      "|5041660|      AB|Edmonton|  53.585| -113.5526| POI2|  53.585|  -113.485734|0.07732440652860459|\n",
      "|5227655|      AB|Edmonton|  53.585| -113.5526| POI1|  53.585|  -113.485734|0.07732440652860459|\n",
      "|5227655|      AB|Edmonton|  53.585| -113.5526| POI2|  53.585|  -113.485734|0.07732440652860459|\n",
      "+-------+--------+--------+--------+----------+-----+--------+-------------+-------------------+\n",
      "only showing top 10 rows\n",
      "\n"
     ]
    }
   ],
   "source": [
    "df1.show(10)"
   ]
  },
  {
   "cell_type": "code",
   "execution_count": 17,
   "metadata": {},
   "outputs": [],
   "source": [
    "average_df = df1.groupBy(\"POIID\").avg(\"distance\")"
   ]
  },
  {
   "cell_type": "code",
   "execution_count": 18,
   "metadata": {},
   "outputs": [
    {
     "name": "stdout",
     "output_type": "stream",
     "text": [
      "+-----+-----------------+\n",
      "|POIID|    avg(distance)|\n",
      "+-----+-----------------+\n",
      "| POI4|8.810410862715697|\n",
      "| POI2|3.348183006325603|\n",
      "| POI1|3.348183006325603|\n",
      "| POI3|5.537950830488867|\n",
      "+-----+-----------------+\n",
      "\n"
     ]
    }
   ],
   "source": [
    "average_df.show()"
   ]
  },
  {
   "cell_type": "code",
   "execution_count": 19,
   "metadata": {},
   "outputs": [],
   "source": [
    "stddev_df = df1.groupBy(\"POIID\").agg(stddev(\"distance\"))"
   ]
  },
  {
   "cell_type": "code",
   "execution_count": 20,
   "metadata": {},
   "outputs": [
    {
     "name": "stdout",
     "output_type": "stream",
     "text": [
      "+-----+---------------------+\n",
      "|POIID|stddev_samp(distance)|\n",
      "+-----+---------------------+\n",
      "| POI4|   28.675130269811014|\n",
      "| POI2|    3.858489571570677|\n",
      "| POI1|    3.858489571570677|\n",
      "| POI3|   2.8586897295404907|\n",
      "+-----+---------------------+\n",
      "\n"
     ]
    }
   ],
   "source": [
    "stddev_df.show()"
   ]
  },
  {
   "cell_type": "code",
   "execution_count": 21,
   "metadata": {},
   "outputs": [],
   "source": [
    "radius_df = df1.groupBy(\"POIID\").max(\"distance\")"
   ]
  },
  {
   "cell_type": "code",
   "execution_count": 22,
   "metadata": {},
   "outputs": [
    {
     "name": "stdout",
     "output_type": "stream",
     "text": [
      "+-----+------------------+\n",
      "|POIID|     max(distance)|\n",
      "+-----+------------------+\n",
      "| POI4| 192.7049913074258|\n",
      "| POI2|24.851937229893878|\n",
      "| POI1|24.851937229893878|\n",
      "| POI3|20.155377791591437|\n",
      "+-----+------------------+\n",
      "\n"
     ]
    }
   ],
   "source": [
    "radius_df.show()"
   ]
  },
  {
   "cell_type": "code",
   "execution_count": 23,
   "metadata": {},
   "outputs": [],
   "source": [
    "requests_df = df1.groupBy(\"POIID\").count()"
   ]
  },
  {
   "cell_type": "code",
   "execution_count": 24,
   "metadata": {},
   "outputs": [
    {
     "name": "stdout",
     "output_type": "stream",
     "text": [
      "+-----+-----+\n",
      "|POIID|count|\n",
      "+-----+-----+\n",
      "| POI4|  484|\n",
      "| POI2| 9698|\n",
      "| POI1| 9698|\n",
      "| POI3| 9817|\n",
      "+-----+-----+\n",
      "\n"
     ]
    }
   ],
   "source": [
    "requests_df.show()"
   ]
  },
  {
   "cell_type": "code",
   "execution_count": 25,
   "metadata": {},
   "outputs": [],
   "source": [
    "density_join_df = requests_df.join(radius_df, \"POIID\")"
   ]
  },
  {
   "cell_type": "code",
   "execution_count": 26,
   "metadata": {},
   "outputs": [
    {
     "name": "stdout",
     "output_type": "stream",
     "text": [
      "+-----+-----+------------------+\n",
      "|POIID|count|     max(distance)|\n",
      "+-----+-----+------------------+\n",
      "| POI4|  484| 192.7049913074258|\n",
      "| POI2| 9698|24.851937229893878|\n",
      "| POI1| 9698|24.851937229893878|\n",
      "| POI3| 9817|20.155377791591437|\n",
      "+-----+-----+------------------+\n",
      "\n"
     ]
    }
   ],
   "source": [
    "density_join_df.show()"
   ]
  },
  {
   "cell_type": "code",
   "execution_count": 27,
   "metadata": {},
   "outputs": [
    {
     "data": {
      "text/plain": [
       "<function __main__.area_udf(count, radius)>"
      ]
     },
     "execution_count": 27,
     "metadata": {},
     "output_type": "execute_result"
    }
   ],
   "source": [
    "def area_udf(count,radius):\n",
    "    \n",
    "    area = radius*radius*math.pi\n",
    "    \n",
    "    return area.alias(\"area\")\n",
    "spark.udf.register(\"area_udf\",area_udf)"
   ]
  },
  {
   "cell_type": "code",
   "execution_count": 28,
   "metadata": {},
   "outputs": [],
   "source": [
    "area_df = density_join_df.select(\"POIID\",\"count\",area_udf(density_join_df[\"count\"], density_join_df[\"max(distance)\"]))"
   ]
  },
  {
   "cell_type": "code",
   "execution_count": 29,
   "metadata": {},
   "outputs": [
    {
     "name": "stdout",
     "output_type": "stream",
     "text": [
      "+-----+-----+------------------+\n",
      "|POIID|count|              area|\n",
      "+-----+-----+------------------+\n",
      "| POI4|  484|116663.71447022335|\n",
      "| POI2| 9698|1940.3066347803444|\n",
      "| POI1| 9698|1940.3066347803444|\n",
      "| POI3| 9817|1276.2382557204542|\n",
      "+-----+-----+------------------+\n",
      "\n"
     ]
    }
   ],
   "source": [
    "area_df.show()"
   ]
  },
  {
   "cell_type": "code",
   "execution_count": 30,
   "metadata": {},
   "outputs": [],
   "source": [
    "density_df = area_df.withColumn(\"density\", col(\"count\")/col(\"area\"))"
   ]
  },
  {
   "cell_type": "code",
   "execution_count": 31,
   "metadata": {},
   "outputs": [
    {
     "name": "stdout",
     "output_type": "stream",
     "text": [
      "+-----+-----+------------------+--------------------+\n",
      "|POIID|count|              area|             density|\n",
      "+-----+-----+------------------+--------------------+\n",
      "| POI4|  484|116663.71447022335|0.004148676408923476|\n",
      "| POI2| 9698|1940.3066347803444|   4.998179064154918|\n",
      "| POI1| 9698|1940.3066347803444|   4.998179064154918|\n",
      "| POI3| 9817|1276.2382557204542|   7.692137385787865|\n",
      "+-----+-----+------------------+--------------------+\n",
      "\n"
     ]
    }
   ],
   "source": [
    "density_df.show()"
   ]
  },
  {
   "cell_type": "code",
   "execution_count": 32,
   "metadata": {},
   "outputs": [],
   "source": [
    "ordered_density = density_df.select(\"density\").orderBy(\"density\",ascending=False).collect()"
   ]
  },
  {
   "cell_type": "code",
   "execution_count": 33,
   "metadata": {},
   "outputs": [],
   "source": [
    "min_density = ordered_density[len(ordered_density)-1][0]\n",
    "max_density = ordered_density[0][0]"
   ]
  },
  {
   "cell_type": "code",
   "execution_count": 34,
   "metadata": {},
   "outputs": [
    {
     "data": {
      "text/plain": [
       "0.004148676408923476"
      ]
     },
     "execution_count": 34,
     "metadata": {},
     "output_type": "execute_result"
    }
   ],
   "source": [
    "min_density"
   ]
  },
  {
   "cell_type": "code",
   "execution_count": 35,
   "metadata": {},
   "outputs": [
    {
     "data": {
      "text/plain": [
       "7.692137385787865"
      ]
     },
     "execution_count": 35,
     "metadata": {},
     "output_type": "execute_result"
    }
   ],
   "source": [
    "max_density"
   ]
  },
  {
   "cell_type": "code",
   "execution_count": 36,
   "metadata": {},
   "outputs": [
    {
     "data": {
      "text/plain": [
       "<function __main__.popularity_udf(scale_min, scale_max, x)>"
      ]
     },
     "execution_count": 36,
     "metadata": {},
     "output_type": "execute_result"
    }
   ],
   "source": [
    "def popularity_udf(scale_min,scale_max,x):\n",
    "    pop = (scale_max - (scale_min))*(x - min_density) / (max_density - min_density) + scale_min\n",
    "    \n",
    "    return pop.alias(\"popularity\")\n",
    "spark.udf.register(\"popularity_udf\",popularity_udf)"
   ]
  },
  {
   "cell_type": "code",
   "execution_count": 37,
   "metadata": {},
   "outputs": [],
   "source": [
    "pop_df = density_df.select(\"POIID\", popularity_udf(-10,10,density_df[\"density\"]))"
   ]
  },
  {
   "cell_type": "code",
   "execution_count": 38,
   "metadata": {},
   "outputs": [
    {
     "name": "stdout",
     "output_type": "stream",
     "text": [
      "+-----+-----------------+\n",
      "|POIID|       popularity|\n",
      "+-----+-----------------+\n",
      "| POI4|            -10.0|\n",
      "| POI2|2.991773470357833|\n",
      "| POI1|2.991773470357833|\n",
      "| POI3|             10.0|\n",
      "+-----+-----------------+\n",
      "\n"
     ]
    }
   ],
   "source": [
    "pop_df.show()"
   ]
  },
  {
   "cell_type": "code",
   "execution_count": 39,
   "metadata": {},
   "outputs": [],
   "source": [
    "import pandas as pd\n",
    "import matplotlib.pyplot as plt"
   ]
  },
  {
   "cell_type": "code",
   "execution_count": 41,
   "metadata": {},
   "outputs": [],
   "source": [
    "p_data = pd.read_csv(\"DataSample.csv\")"
   ]
  },
  {
   "cell_type": "code",
   "execution_count": 42,
   "metadata": {},
   "outputs": [
    {
     "data": {
      "text/html": [
       "<div>\n",
       "<style scoped>\n",
       "    .dataframe tbody tr th:only-of-type {\n",
       "        vertical-align: middle;\n",
       "    }\n",
       "\n",
       "    .dataframe tbody tr th {\n",
       "        vertical-align: top;\n",
       "    }\n",
       "\n",
       "    .dataframe thead th {\n",
       "        text-align: right;\n",
       "    }\n",
       "</style>\n",
       "<table border=\"1\" class=\"dataframe\">\n",
       "  <thead>\n",
       "    <tr style=\"text-align: right;\">\n",
       "      <th></th>\n",
       "      <th>_ID</th>\n",
       "      <th>TimeSt</th>\n",
       "      <th>Country</th>\n",
       "      <th>Province</th>\n",
       "      <th>City</th>\n",
       "      <th>Latitude</th>\n",
       "      <th>Longitude</th>\n",
       "    </tr>\n",
       "  </thead>\n",
       "  <tbody>\n",
       "    <tr>\n",
       "      <td>0</td>\n",
       "      <td>4516516</td>\n",
       "      <td>2017-06-21 00:00:00.143</td>\n",
       "      <td>CA</td>\n",
       "      <td>ON</td>\n",
       "      <td>Waterloo</td>\n",
       "      <td>43.49347</td>\n",
       "      <td>-80.49123</td>\n",
       "    </tr>\n",
       "    <tr>\n",
       "      <td>1</td>\n",
       "      <td>4516547</td>\n",
       "      <td>2017-06-21 18:00:00.193</td>\n",
       "      <td>CA</td>\n",
       "      <td>ON</td>\n",
       "      <td>London</td>\n",
       "      <td>42.93990</td>\n",
       "      <td>-81.27090</td>\n",
       "    </tr>\n",
       "    <tr>\n",
       "      <td>2</td>\n",
       "      <td>4516550</td>\n",
       "      <td>2017-06-21 15:00:00.287</td>\n",
       "      <td>CA</td>\n",
       "      <td>ON</td>\n",
       "      <td>Guelph</td>\n",
       "      <td>43.57760</td>\n",
       "      <td>-80.22010</td>\n",
       "    </tr>\n",
       "    <tr>\n",
       "      <td>3</td>\n",
       "      <td>4516600</td>\n",
       "      <td>2017-06-21 15:00:00.307</td>\n",
       "      <td>CA</td>\n",
       "      <td>ON</td>\n",
       "      <td>Stratford</td>\n",
       "      <td>43.37160</td>\n",
       "      <td>-80.97730</td>\n",
       "    </tr>\n",
       "    <tr>\n",
       "      <td>4</td>\n",
       "      <td>4516613</td>\n",
       "      <td>2017-06-21 15:00:00.497</td>\n",
       "      <td>CA</td>\n",
       "      <td>ON</td>\n",
       "      <td>Stratford</td>\n",
       "      <td>43.37160</td>\n",
       "      <td>-80.97730</td>\n",
       "    </tr>\n",
       "  </tbody>\n",
       "</table>\n",
       "</div>"
      ],
      "text/plain": [
       "       _ID                   TimeSt Country Province       City  Latitude  \\\n",
       "0  4516516  2017-06-21 00:00:00.143      CA       ON   Waterloo  43.49347   \n",
       "1  4516547  2017-06-21 18:00:00.193      CA       ON     London  42.93990   \n",
       "2  4516550  2017-06-21 15:00:00.287      CA       ON     Guelph  43.57760   \n",
       "3  4516600  2017-06-21 15:00:00.307      CA       ON  Stratford  43.37160   \n",
       "4  4516613  2017-06-21 15:00:00.497      CA       ON  Stratford  43.37160   \n",
       "\n",
       "   Longitude  \n",
       "0  -80.49123  \n",
       "1  -81.27090  \n",
       "2  -80.22010  \n",
       "3  -80.97730  \n",
       "4  -80.97730  "
      ]
     },
     "execution_count": 42,
     "metadata": {},
     "output_type": "execute_result"
    }
   ],
   "source": [
    "p_data.head()"
   ]
  },
  {
   "cell_type": "code",
   "execution_count": 43,
   "metadata": {},
   "outputs": [
    {
     "data": {
      "text/html": [
       "<div>\n",
       "<style scoped>\n",
       "    .dataframe tbody tr th:only-of-type {\n",
       "        vertical-align: middle;\n",
       "    }\n",
       "\n",
       "    .dataframe tbody tr th {\n",
       "        vertical-align: top;\n",
       "    }\n",
       "\n",
       "    .dataframe thead th {\n",
       "        text-align: right;\n",
       "    }\n",
       "</style>\n",
       "<table border=\"1\" class=\"dataframe\">\n",
       "  <thead>\n",
       "    <tr style=\"text-align: right;\">\n",
       "      <th></th>\n",
       "      <th>POIID</th>\n",
       "      <th>Latitude</th>\n",
       "      <th>Longitude</th>\n",
       "    </tr>\n",
       "  </thead>\n",
       "  <tbody>\n",
       "    <tr>\n",
       "      <td>0</td>\n",
       "      <td>POI1</td>\n",
       "      <td>53.546167</td>\n",
       "      <td>-113.485734</td>\n",
       "    </tr>\n",
       "    <tr>\n",
       "      <td>1</td>\n",
       "      <td>POI2</td>\n",
       "      <td>53.546167</td>\n",
       "      <td>-113.485734</td>\n",
       "    </tr>\n",
       "    <tr>\n",
       "      <td>2</td>\n",
       "      <td>POI3</td>\n",
       "      <td>45.521629</td>\n",
       "      <td>-73.566024</td>\n",
       "    </tr>\n",
       "    <tr>\n",
       "      <td>3</td>\n",
       "      <td>POI4</td>\n",
       "      <td>45.224830</td>\n",
       "      <td>-63.232729</td>\n",
       "    </tr>\n",
       "  </tbody>\n",
       "</table>\n",
       "</div>"
      ],
      "text/plain": [
       "  POIID   Latitude   Longitude\n",
       "0  POI1  53.546167 -113.485734\n",
       "1  POI2  53.546167 -113.485734\n",
       "2  POI3  45.521629  -73.566024\n",
       "3  POI4  45.224830  -63.232729"
      ]
     },
     "execution_count": 43,
     "metadata": {},
     "output_type": "execute_result"
    }
   ],
   "source": [
    "p_poi = pd.read_csv(\"POIList.csv\")\n",
    "p_poi.head()"
   ]
  },
  {
   "cell_type": "code",
   "execution_count": 44,
   "metadata": {},
   "outputs": [
    {
     "data": {
      "text/plain": [
       "[<matplotlib.lines.Line2D at 0x29836cf5708>,\n",
       " <matplotlib.lines.Line2D at 0x29836d12948>]"
      ]
     },
     "execution_count": 44,
     "metadata": {},
     "output_type": "execute_result"
    },
    {
     "data": {
      "image/png": "[encoded data removed]",
      "text/plain": [
       "<Figure size 432x288 with 1 Axes>"
      ]
     },
     "metadata": {
      "needs_background": "light"
     },
     "output_type": "display_data"
    }
   ],
   "source": [
    "plt.plot(p_data[\"Longitude\"], p_data[\"Latitude\"],\"o\", p_poi[\"Longitude\"], p_poi[\" Latitude\"],\"ok\")"
   ]
  },
  {
   "cell_type": "code",
   "execution_count": null,
   "metadata": {},
   "outputs": [],
   "source": []
  }
 ],
 "metadata": {
  "kernelspec": {
   "display_name": "Python 3",
   "language": "python",
   "name": "python3"
  },
  "language_info": {
   "codemirror_mode": {
    "name": "ipython",
    "version": 3
   },
   "file_extension": ".py",
   "mimetype": "text/x-python",
   "name": "python",
   "nbconvert_exporter": "python",
   "pygments_lexer": "ipython3",
   "version": "3.7.4"
  }
 },
 "nbformat": 4,
 "nbformat_minor": 2
}
